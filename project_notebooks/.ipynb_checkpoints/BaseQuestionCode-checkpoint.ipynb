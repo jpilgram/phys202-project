{
 "cells": [
  {
   "cell_type": "markdown",
   "metadata": {},
   "source": [
    "##$$Base\\:Question\\:Code\\: and \\:Project\\: Abstract$$"
   ]
  },
  {
   "cell_type": "markdown",
   "metadata": {},
   "source": [
    "###Abstract\n",
    "The way in which galaxies form and interact is currently a dominate research topic in the field of astrophysics. The goal of this project is to simulate galaxy interactions as they pass and/or merge with eachother. I will be using the approach done by Toomre and Toomre, in which massless point particles are orbiting a massive galactic nucleus $M$ that has another massive galactic nulci $S$ in a parabolic orbit around it. In the Toomre paper they did several different types of simulations by varying the way in which $S$ passed $M$. I will be focusing on direct and retrograde passages. A direct passage by $S$ is when it passes $M$ in the same direction as the massless particles orbit $M$. A retrograde passage is when $S$ passes $M$ opposite of the direction that the massless particles orbit $M$. The thoretical and sought behavior in the system simulations is that of spiral galaxy arms. \n",
    "   \n",
    "   My base question will be to simulate a direct and retrograde passage of $S$ by $M$ in the rest frame of $M$. To complete this task, I will be using odeint to solve the below differential equation. I will use the conditions from the Toomre paper for my masses and initial radi and use orbital mechanics (equations below) and geometry to solve for my inital x and y cooridinates and velocities of both the stars and $S$. I then will plot the solution to my differential equation using interact and static plots to show the change in the system over time.\n",
    "   \n",
    "   \n",
    "   My second question will be to simulate the passage of $S$ and $M$ around their center of mass, which will be placed at the origin. Again, I will use the same solving method but I must now calculate transfromations for both $S$ and $M$ radi and velocities around the center of mass of the system. I will do this simulation with $M$ orbited by stars and $S$ only as a massive galactic nucleus.\n",
    "\n",
    "\n",
    "   For my third question, I will be simulating a passage of $S$ by $M$ around the center of mass of the system with particles orbiting both $M$ and $S$. I will use the same solving method as before but will need to include the initial conditions for particles orbiting $S$. I will use animations to show the change of the system over time.\n",
    "  \n",
    "  To test if the simulations are working for each question, I will use the created plots and look for the expected spiral like behavior by comparing to the plots created by Toomre and Toomre. I will also try to use conservation of energy to check the system. "
   ]
  },
  {
   "cell_type": "markdown",
   "metadata": {},
   "source": [
    "###Imports"
   ]
  },
  {
   "cell_type": "code",
   "execution_count": 10,
   "metadata": {
    "collapsed": false
   },
   "outputs": [],
   "source": [
    "%matplotlib inline\n",
    "import matplotlib.pyplot as plt\n",
    "import numpy as np\n",
    "from scipy.integrate import odeint\n",
    "from IPython.html.widgets import interact, fixed"
   ]
  },
  {
   "cell_type": "markdown",
   "metadata": {},
   "source": [
    "###The Differential Equations\n",
    "\n",
    "$$ \\ddot{\\mathbf{r}} = -\\gamma \\left\\{ \\frac{M}{r^3}\\mathbf{r} -\\frac{S}{\\rho^3}\\boldsymbol{\\rho} + \\frac{S}{R^3}\\boldsymbol\\Re \\right\\} $$\n",
    "\n",
    "$$ \\ddot{\\boldsymbol\\Re} = -\\gamma \\frac{M+S}{R^3}\\boldsymbol\\Re$$\n",
    "\n",
    "where \n",
    "\n",
    "* $\\gamma$ is the Gravitational constant.\n",
    "* $M$ is the central mass of the main galaxy and $S$ is the central mass of the disrupting galaxy\n",
    "* $\\mathbf{r}$ is the radius vector from mass $M$ to massless point particle $m$, representing a single (massless) star in the outer disk of the main galaxy.\n",
    "* $\\boldsymbol\\Re$ is the radius vector from $M$ to $S$\n",
    "* $\\boldsymbol{\\rho} = \\boldsymbol{\\Re} - \\boldsymbol{r}$"
   ]
  },
  {
   "cell_type": "markdown",
   "metadata": {},
   "source": [
    "###Solivng the Differential Equations"
   ]
  },
  {
   "cell_type": "code",
   "execution_count": 11,
   "metadata": {
    "collapsed": false
   },
   "outputs": [],
   "source": [
    "def derivs(rvec, t, M, S):\n",
    "    \"\"\"Computes the derivs for the 3 body system at rvec(t)\n",
    "    \n",
    "    Parameters\n",
    "    ----------\n",
    "    rvec: np.array, solution vector\n",
    "    M, S: float, central mass of respective galaxies\n",
    "    t: array, array of times for the system\n",
    "    \n",
    "    Returns\n",
    "    -------\n",
    "    vector: the derivatives of function\n",
    "    \"\"\"\n",
    "    \n",
    "    rx = rvec[0]\n",
    "    ry = rvec[2]\n",
    "    rdx = rvec[1]\n",
    "    rdy = rvec[3]\n",
    "    \n",
    "    Rx = rvec[4]\n",
    "    Ry = rvec[6]\n",
    "    Rdx = rvec[5]\n",
    "    Rdy = rvec[7]\n",
    "    \n",
    "    rhox = Rx - rx\n",
    "    rhoy = Ry - ry\n",
    "    \n",
    "    R_mag= np.sqrt(Rx**2 + Ry**2)\n",
    "    r_mag = np.sqrt(rx**2 + ry**2)\n",
    "    rho_mag = np.sqrt(rhox**2 + rhoy**2)\n",
    "    \n",
    "    G = 4.498e-6\n",
    "    \n",
    "    rdx2 = -G*((M/r_mag**3)*rx - rhox*(S/rho_mag**3)  + Rx*(S/R_mag**3))\n",
    "    rdy2 = -G*((M/r_mag**3)*ry - rhoy*(S/rho_mag**3)  + Ry*(S/R_mag**3))\n",
    "    \n",
    "    Rdx2 = -G*(Rx*((M+S)/R_mag**3))\n",
    "    Rdy2 = -G*(Ry*((M+S)/R_mag**3))\n",
    "    \n",
    "    return np.array([rdx, rdx2, rdy, rdy2, Rdx, Rdx2, Rdy, Rdy2])"
   ]
  },
  {
   "cell_type": "markdown",
   "metadata": {},
   "source": [
    "Solve_system will return solution in the from of: \n",
    "\n",
    "$r(x,y) = (x_1, dx_1, y_1, dy_1, x_2, dx_2, y_2, dy_2)$"
   ]
  },
  {
   "cell_type": "code",
   "execution_count": 12,
   "metadata": {
    "collapsed": true
   },
   "outputs": [],
   "source": [
    "def solve_system(ic, t, M, S):\n",
    "    \"\"\"Computes solution of 3 Body Problem for single initial condition ic\n",
    "    \n",
    "    Parameters\n",
    "    ----------\n",
    "    ic: array or list, initial conditions of system\n",
    "    t: array, array of times for which the system will be solved\n",
    "    M, S: float, central mass of respective galaxies\n",
    "    \n",
    "    Returns\n",
    "    -------\n",
    "    returns array of the solution vectors of the differential equation\n",
    "    \"\"\"\n",
    "    \n",
    "    return odeint(derivs, ic, t, args=(M, S), atol=1e-4, rtol=1e-5)"
   ]
  },
  {
   "cell_type": "markdown",
   "metadata": {
    "collapsed": false,
    "scrolled": false
   },
   "source": [
    "##Initial Conditions\n",
    "In order to achieve a realistic model, I need to calcuate my initial velocity conditions using orbital mechanics.\n",
    "\n",
    "####Parabolic Orbit Velocity\n",
    "\\begin{equation*}\n",
    "v = \\sqrt{\\frac{2\\mu}{r}}\n",
    "\\end{equation*}\n",
    "\n",
    "####Circular Orbit Velocity\n",
    "\\begin{equation*}\n",
    "v = \\sqrt{\\frac{\\mu}{r}}\n",
    "\\end{equation*}\n",
    "\n",
    "where \n",
    "* $a$ is the semi-major axis\n",
    "* $\\mu$ is the standard gravitational parameter $\\gamma (M+m)$\n",
    "* $r$ is the radius of the orbit\n",
    "* $\\gamma$ is the gravitaional constant"
   ]
  },
  {
   "cell_type": "code",
   "execution_count": 13,
   "metadata": {
    "collapsed": false
   },
   "outputs": [],
   "source": [
    "def star(r, M, theta):\n",
    "    \"\"\"Computes the inital conditions of a single star\n",
    "    \n",
    "    Parameters\n",
    "    ----------\n",
    "    r: float, radius of star\n",
    "    M: float, Mass of M\n",
    "    theta: float, angle from +x axis at which star intially starts\n",
    "    \n",
    "    Returns\n",
    "    -------\n",
    "    returns a list of the initial conditions for a single star\n",
    "    \"\"\"\n",
    "    \n",
    "    G = 4.498e-6\n",
    "    \n",
    "    x = r*np.cos(theta)\n",
    "    y = r*np.sin(theta)\n",
    "    \n",
    "    v = np.sqrt((G*M)/np.sqrt(x**2+y**2))\n",
    "    \n",
    "    vx = -v*np.sin(theta)\n",
    "    vy = v*np.cos(theta)\n",
    "    \n",
    "    return [x,vx,y,vy]"
   ]
  },
  {
   "cell_type": "code",
   "execution_count": 14,
   "metadata": {
    "collapsed": true
   },
   "outputs": [],
   "source": [
    "def star_cond(N, M, r):\n",
    "    \"\"\"Creates initial conditions for number of stars you want in inner layer\n",
    "    \n",
    "    Parameters\n",
    "    ----------\n",
    "    N: int, number of stars wanted in inner shell\n",
    "    M: float, mass of M\n",
    "    r: radius at which you want the stars\n",
    "    \n",
    "    Returns\n",
    "    -------\n",
    "    returns array consisting of the inital conditions for each star\n",
    "    \"\"\"\n",
    "    theta = np.linspace(0,2*np.pi,N)\n",
    "    cond = np.array([star(r, M, theta[i]) for i in range(N)])\n",
    "    return cond"
   ]
  },
  {
   "cell_type": "code",
   "execution_count": 15,
   "metadata": {
    "collapsed": false
   },
   "outputs": [],
   "source": [
    "def S_cond(R,y, M, S):\n",
    "    \"\"\"Computes the initial conditions for galactic nucli S\n",
    "    \n",
    "    Parameters\n",
    "    ----------\n",
    "    R: float, minimum distance between S and M\n",
    "    y: float, starting y position for S\n",
    "    M,S: float, mass of the respective galatic centers\n",
    "    \n",
    "    Returns\n",
    "    -------\n",
    "    x starting postion, x velocity, y startig position, y velocity\n",
    "    \"\"\"\n",
    "    G = 4.498e-6\n",
    "    x = -y**2/(4*R) + R\n",
    "    theta = np.arctan(50/y)\n",
    "    \n",
    "    v = np.sqrt(2*(G*(M+S))/np.sqrt(x**2+y**2))\n",
    "    vx = v*np.cos(theta)\n",
    "    vy = -v*np.sin(theta)\n",
    "    \n",
    "    return x, vx, y, vy"
   ]
  },
  {
   "cell_type": "markdown",
   "metadata": {},
   "source": [
    "##Given System Parameters:\n",
    "* Max radius of stars = 15 kpc\n",
    "* Min radius of S = 25 kpc\n",
    "* Mass M = 1e11 $M_o$\n",
    "* Mass S = 1e11 $M_o$\n",
    "* Time: $10^8$ $\\frac{years}{time unit}$\n",
    "* G = $4.498*10^{-6}$ $\\frac{kpc^3}{M_o*years^2}$"
   ]
  },
  {
   "cell_type": "code",
   "execution_count": 16,
   "metadata": {
    "collapsed": false
   },
   "outputs": [],
   "source": [
    "#defining some inital conditions and time array\n",
    "M = 1e11\n",
    "S = 1e11\n",
    "rS = 25\n",
    "N = 12\n",
    "t = np.linspace(0,1,500)"
   ]
  },
  {
   "cell_type": "markdown",
   "metadata": {},
   "source": [
    "###Plotting the Simulation in Time"
   ]
  },
  {
   "cell_type": "code",
   "execution_count": 17,
   "metadata": {
    "collapsed": false
   },
   "outputs": [],
   "source": [
    "def get_sol(rS, t, M, S, N):\n",
    "    \"\"\"Solves the system for N number of stars\n",
    "    \n",
    "    Parameters\n",
    "    ----------\n",
    "    rS: float, minimum distance of S from M\n",
    "    t: array, array of times\n",
    "    M: float, mass of M\n",
    "    S: float, mass of S\n",
    "    N: int, number of stars wanted in inner layer,\n",
    "        each consecutive layer will have 6 additional stars\n",
    "    \n",
    "    Returns\n",
    "    -------\n",
    "    Returns the solution postitions for each star and S at all times\n",
    "    \"\"\"\n",
    "    G = 4.498e-6\n",
    "\n",
    "    sx,svx,sy,svy = S_cond(rS,50, M, S)\n",
    "\n",
    "    radi = np.array([0.2*rS,0.3*rS,0.4*rS,0.5*rS,0.6*rS])\n",
    "    k=N+1\n",
    "    star_sols = []\n",
    "    for r in radi:\n",
    "        c = star_cond(k,M,r)\n",
    "        for i in range(k):\n",
    "            ic = c[i]\n",
    "            ic = np.append(ic, np.array([sx, svx, sy, svy]))\n",
    "            sol = solve_system(ic, t, M, S)\n",
    "\n",
    "            x = sol[:,0]\n",
    "            y = sol[:,2]\n",
    "            X = sol[:,4]\n",
    "            Y = sol[:,6]\n",
    "            star_sols.append(x)\n",
    "            star_sols.append(y)\n",
    "        k+=6\n",
    "    all_stars = np.transpose(np.vstack(star_sols))\n",
    "    starx = all_stars[:,0::2]\n",
    "    stary = all_stars[:,1::2]\n",
    "        \n",
    "    return starx, stary, X, Y"
   ]
  },
  {
   "cell_type": "code",
   "execution_count": 18,
   "metadata": {
    "collapsed": false
   },
   "outputs": [],
   "source": [
    "def plot_pos(rx, ry, sx, sy, j=0):\n",
    "    \"\"\"Plots the solved positions of the system at any time\n",
    "    \n",
    "    Parameters\n",
    "    ----------\n",
    "    rx: array, x postitions of all stars\n",
    "    ry: array, y postitions of all stars\n",
    "    sx: array, x postitions of S\n",
    "    sy: array, y postitions of S\n",
    "    j: float, time at which you are plotting\n",
    "    \n",
    "    Returns\n",
    "    -------\n",
    "    Scatter plot of the system at any given time.\n",
    "    \"\"\"\n",
    "        \n",
    "    plt.figure(figsize=(6,6))\n",
    "    \n",
    "    plt.scatter(0,0,color= 'b', label= 'M')\n",
    "    plt.scatter(sx[j], sy[j], color = 'r', label = 'S')\n",
    "    plt.scatter(rx[j], ry[j], color = 'g', label = 'stars', s=6)\n",
    "        \n",
    "    plt.legend(loc='upper left')\n",
    "    plt.xlim(-65,65)\n",
    "    plt.ylim(-65,65)\n",
    "    plt.box(False)\n",
    "    plt.tick_params(axis = 'x', top = 'off', bottom = \"off\", labelbottom= 'off')\n",
    "    plt.tick_params(axis = 'y', right = 'off', left= \"off\", labelleft= 'off')\n",
    "    plt.show()"
   ]
  },
  {
   "cell_type": "code",
   "execution_count": 19,
   "metadata": {
    "collapsed": false,
    "scrolled": true
   },
   "outputs": [
    {
     "data": {
      "image/png": "[encoded data removed]",
      "text/plain": [
       "<matplotlib.figure.Figure at 0x7f1aa501e278>"
      ]
     },
     "metadata": {},
     "output_type": "display_data"
    }
   ],
   "source": [
    "rx, ry, sx, sy = get_sol(rS, t, M, S, N)\n",
    "interact(plot_pos, j = (0,len(t)-1), rx = fixed(rx), ry = fixed(ry), sx=fixed(sx), sy=fixed(sy));"
   ]
  },
  {
   "cell_type": "markdown",
   "metadata": {},
   "source": [
    "###Direct Passage \n",
    "To plot direct passage I will change the direction of the orbit of S. "
   ]
  },
  {
   "cell_type": "code",
   "execution_count": 20,
   "metadata": {
    "collapsed": false
   },
   "outputs": [],
   "source": [
    "def S_condd(R,y, M, S):\n",
    "    \"\"\"Computes the initial conditions for galactic nucli S\n",
    "    \n",
    "    Parameters\n",
    "    ----------\n",
    "    R: float, minimum distance between S and M\n",
    "    y, flat, starting y position for S\n",
    "    M, S: float, respective mass of galactic nuleci\n",
    "    \n",
    "    Returns\n",
    "    -------\n",
    "    x starting postion, x velocity, y startig position, y velocity\n",
    "    \"\"\"\n",
    "    G = 4.498e-6\n",
    "    x = y**2/(4*R) - R\n",
    "    theta = np.arctan(50/y)\n",
    "    \n",
    "    v = np.sqrt(2*(G*(M+S))/np.sqrt(x**2+y**2))\n",
    "    vx = -v*np.cos(theta)\n",
    "    vy = -v*np.sin(theta)\n",
    "    \n",
    "    return x, vx, y, vy"
   ]
  },
  {
   "cell_type": "code",
   "execution_count": 21,
   "metadata": {
    "collapsed": false
   },
   "outputs": [],
   "source": [
    "def get_sol_direct(rS, t, M, S, N):\n",
    "    \"\"\"Solves for a direct passage of the system for N nummber of stars in inner layer\n",
    "    \n",
    "    Parameters\n",
    "    ----------\n",
    "    rS: float, initial radius of S\n",
    "    t: array, array of times\n",
    "    M: float, mass of M\n",
    "    S: float, mass of S\n",
    "    N: int, number of stars wanted in each layer (6 additional stars in each layer)\n",
    "    \n",
    "    Returns\n",
    "    -------\n",
    "    returns the solution postitions for all the stars and S at all times\n",
    "    \"\"\"\n",
    "    \n",
    "    G = 4.498e-6\n",
    "\n",
    "    sx,svx,sy,svy = S_condd(rS,50, M, S)\n",
    "\n",
    "    radi = np.array([0.2*rS,0.3*rS,0.4*rS,0.5*rS,0.6*rS])\n",
    "    k=N+1\n",
    "    star_sols = []\n",
    "    for r in radi:\n",
    "        c = star_cond(k,M,r)\n",
    "        for i in range(k):\n",
    "            ic = c[i]\n",
    "            ic = np.append(ic, np.array([sx, svx, sy, svy]))\n",
    "            sol = solve_system(ic, t, M, S)\n",
    "\n",
    "            x = sol[:,0]\n",
    "            y = sol[:,2]\n",
    "            X = sol[:,4]\n",
    "            Y = sol[:,6]\n",
    "            star_sols.append(x)\n",
    "            star_sols.append(y)\n",
    "        k+=6\n",
    "    all_stars = np.transpose(np.vstack(star_sols))\n",
    "    starx = all_stars[:,0::2]\n",
    "    stary = all_stars[:,1::2]\n",
    "        \n",
    "    return starx, stary, X, Y"
   ]
  },
  {
   "cell_type": "code",
   "execution_count": 22,
   "metadata": {
    "collapsed": false
   },
   "outputs": [
    {
     "data": {
      "image/png": "[encoded data removed]",
      "text/plain": [
       "<matplotlib.figure.Figure at 0x7f1aa4f7eef0>"
      ]
     },
     "metadata": {},
     "output_type": "display_data"
    }
   ],
   "source": [
    "x, y, X, Y = get_sol_direct(rS, t, M, S, N)\n",
    "interact(plot_pos, j = (0,len(t)-1), rx = fixed(x), ry = fixed(y), sx=fixed(X), sy= fixed(Y));"
   ]
  },
  {
   "cell_type": "markdown",
   "metadata": {},
   "source": [
    "###Checking Conservation of Engery\n",
    "\n",
    "If the differential equation is solved correctly and the inital conditions are correct, energy should be conserved.\n",
    "\n",
    "#####At this point I believe energy is not conserved, I do not know why but my simulations very closely match those done by Toomre and Toomre."
   ]
  },
  {
   "cell_type": "code",
   "execution_count": 23,
   "metadata": {
    "collapsed": false
   },
   "outputs": [],
   "source": [
    "def E_cons(rS, t, N, M, S):\n",
    "    \"\"\"Tests energy of system at any point\n",
    "   \n",
    "    Parameters\n",
    "    ----------\n",
    "    rS: float, initial radius of S\n",
    "    t: array, array of times\n",
    "    N: int, number of stars in each layer\n",
    "    M: float, mass of M\n",
    "    S: float, mass of S\n",
    "   \n",
    "    Returns\n",
    "    -------\n",
    "    Returns total energy for each timestep\"\"\"\n",
    "    \n",
    "    G = 4.498e-6\n",
    "    m=1\n",
    "    \n",
    "    sx,sy,svx,svy = S_cond(rS,45, M, S)\n",
    "    c = star_cond(N, M, 0.6*rS)\n",
    "    \n",
    "    for i in range(N):\n",
    "        ic = c[i]\n",
    "        ic = np.append(ic, np.array([sx, svx, sy ,svy]))\n",
    "\n",
    "        sol = solve_system(ic, t, M, S)\n",
    "        rx = np.array([i[0] for i in sol])\n",
    "        ry = np.array([i[2] for i in sol])\n",
    "        rdx = np.array([i[1] for i in sol])\n",
    "        rdy = np.array([i[3] for i in sol])\n",
    "        Rx = np.array([i[4] for i in sol])\n",
    "        Ry = np.array([i[6] for i in sol])\n",
    "        Rdx = np.array([i[5] for i in sol])\n",
    "        Rdy = np.array([i[7] for i in sol])\n",
    "        rhox = Rx - rx\n",
    "        rhoy = Ry -ry\n",
    "        U= -(G*M*S)/(np.sqrt(Rx**2+Ry**2)+ (-G*M)/(np.sqrt(rx**2+ry**2)+ -(G*S)/np.sqrt(rhox**2+rhoy**2))) \n",
    "        vS = np.sqrt((Rdx)**2+(Rdy**2))\n",
    "        vm = np.sqrt((rdx)**2+(rdy)**2)\n",
    "        K  = 0.5*S*vS**2 + 0.5*m*vm**2\n",
    "    return K+U"
   ]
  },
  {
   "cell_type": "code",
   "execution_count": 24,
   "metadata": {
    "collapsed": false
   },
   "outputs": [
    {
     "data": {
      "image/png": "[encoded data removed]",
      "text/plain": [
       "<matplotlib.figure.Figure at 0x7f1aa4edd8d0>"
      ]
     },
     "metadata": {},
     "output_type": "display_data"
    }
   ],
   "source": [
    "E = E_cons(rS, t, N, M, S)\n",
    "plt.plot(t,E);"
   ]
  },
  {
   "cell_type": "code",
   "execution_count": null,
   "metadata": {
    "collapsed": true
   },
   "outputs": [],
   "source": []
  }
 ],
 "metadata": {
  "kernelspec": {
   "display_name": "Python 3",
   "language": "python",
   "name": "python3"
  },
  "language_info": {
   "codemirror_mode": {
    "name": "ipython",
    "version": 3
   },
   "file_extension": ".py",
   "mimetype": "text/x-python",
   "name": "python",
   "nbconvert_exporter": "python",
   "pygments_lexer": "ipython3",
   "version": "3.4.0"
  }
 },
 "nbformat": 4,
 "nbformat_minor": 0
}
