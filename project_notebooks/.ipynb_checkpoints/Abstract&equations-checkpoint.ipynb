{
 "cells": [
  {
   "cell_type": "markdown",
   "metadata": {},
   "source": [
    "$$ Galaxy\\:Merger\\:Project $$\n",
    "   $$ Jessica\\:Pilgram $$\n",
    "   $$ Phys\\:202-2015 $$"
   ]
  },
  {
   "cell_type": "markdown",
   "metadata": {},
   "source": [
    "###Abstract\n",
    "The way in which galaxies form and interact is currently a dominate research topic in the field of astrophysics. The goal of this project is to simulate galaxy interactions as they pass and/or merge with eachother. I will be using the approach done by Toomre and Toomre, in which massless point particles are orbiting a massive galactic nucleus $M$ that has another massive galactic nulci $S$ in a parabolic orbit around it. In the Toomre paper they did several different types of simulations by varying the way in which $S$ passed $M$. I will be focusing on direct and retrograde passages. A direct passage by $S$ is when it passes $M$ in the same direction as the massless particles orbit $M$. A retrograde passage is when $S$ passes $M$ opposite of the direction that the massless particles orbit $M$. The thoretical and sought behavior in the system simulations is that of spiral galaxy arms. \n",
    "   \n",
    "   My base question will be to simulate a direct and retrograde passage of $S$ by $M$ in the rest frame of $M$. To complete this task, I will be using odeint to solve the below differential equation. I will use the conditions from the Toomre paper for my masses and initial radi and use orbital mechanics (equations below) and geometry to solve for my inital x and y cooridinates and velocities of both the stars and $S$. I then will plot the solution to my differential equation using interact and static plots to show the change in the system over time.\n",
    "   \n",
    "   \n",
    "   My second question will be to simulate the passage of $S$ and $M$ around their center of mass, which will be placed at the origin. Again, I will use the same solving method but I must now calculate transfromations for both $S$ and $M$ radi and velocities around the center of mass of the system. I will do this simulation with $M$ orbited by stars and $S$ only as a massive galactic nucleus.\n",
    "\n",
    "\n",
    "   For my third question, I will be simulating a passage of $S$ by $M$ around the center of mass of the system with particles orbiting both $M$ and $S$. I will use the same solving method as before but will need to include the initial conditions for particles orbiting $S$. I will use animations to show the change of the system over time.\n",
    "  \n",
    "  To test if the simulations are working for each question, I will use the created plots and look for the expected spiral like behavior by comparing to the plots created by Toomre and Toomre. I will also try to use conservation of energy to check the system. \n",
    "  "
   ]
  },
  {
   "cell_type": "markdown",
   "metadata": {
    "collapsed": true
   },
   "source": [
    "###Differential Equations\n",
    "\n",
    "$$ \\ddot{\\mathbf{r}} = -\\gamma \\left\\{ \\frac{M}{r^3}\\mathbf{r} -\\frac{S}{\\rho^3}\\boldsymbol{\\rho} + \\frac{S}{R^3}\\boldsymbol\\Re \\right\\} $$\n",
    "\n",
    "$$ \\ddot{\\boldsymbol\\Re} = -\\gamma \\frac{M+S}{R^3}\\boldsymbol\\Re$$\n",
    "\n",
    "where \n",
    "\n",
    "* $\\gamma$ is the Gravitational constant.\n",
    "* $M$ is the central mass of the main galaxy and $S$ is the central mass of the disrupting galaxy\n",
    "* $\\mathbf{r}$ is the radius vector from mass $M$ to massless point particle $m$, representing a single (massless) star in the outer disk of the main galaxy.\n",
    "* $\\boldsymbol\\Re$ is the radius vector from $M$ to $S$\n",
    "* $\\boldsymbol{\\rho} = \\boldsymbol{\\Re} - \\boldsymbol{r}$"
   ]
  },
  {
   "cell_type": "markdown",
   "metadata": {
    "collapsed": true
   },
   "source": [
    "###Velocities\n",
    "In order to achieve a realistic model, I need to calcuate my initial velocity conditions using orbital mechanics.\n",
    "\n",
    "###Parabolic Orbit\n",
    "#####Velocity\n",
    "\\begin{equation*}\n",
    "v = \\sqrt{\\frac{2\\mu}{r}}\n",
    "\\end{equation*}\n",
    "\n",
    "###Circular Orbit\n",
    "#####Velocity\n",
    "\\begin{equation*}\n",
    "v = \\sqrt{\\frac{\\mu}{r}}\n",
    "\\end{equation*}\n",
    "\n",
    "where \n",
    "* $a$ is the semi-major axis\n",
    "* $\\mu$ is the standard gravitational parameter $\\gamma (M+m)$\n",
    "* $r$ is the radius of the orbit\n",
    "* $\\gamma$ is the gravitaional constant"
   ]
  },
  {
   "cell_type": "code",
   "execution_count": null,
   "metadata": {
    "collapsed": true
   },
   "outputs": [],
   "source": []
  }
 ],
 "metadata": {
  "kernelspec": {
   "display_name": "Python 3",
   "language": "python",
   "name": "python3"
  },
  "language_info": {
   "codemirror_mode": {
    "name": "ipython",
    "version": 3
   },
   "file_extension": ".py",
   "mimetype": "text/x-python",
   "name": "python",
   "nbconvert_exporter": "python",
   "pygments_lexer": "ipython3",
   "version": "3.4.0"
  }
 },
 "nbformat": 4,
 "nbformat_minor": 0
}
