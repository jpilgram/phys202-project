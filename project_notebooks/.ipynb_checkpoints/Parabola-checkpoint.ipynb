{
 "cells": [
  {
   "cell_type": "markdown",
   "metadata": {},
   "source": [
    "In this notebook I am working on plotting a parabola and figuring out how to find the theta from the tangent line."
   ]
  },
  {
   "cell_type": "code",
   "execution_count": 5,
   "metadata": {
    "collapsed": false
   },
   "outputs": [
    {
     "name": "stderr",
     "output_type": "stream",
     "text": [
      ":0: FutureWarning: IPython widgets are experimental and may change in the future.\n"
     ]
    }
   ],
   "source": [
    "%matplotlib inline\n",
    "import matplotlib.pyplot as plt\n",
    "import numpy as np\n",
    "from scipy.integrate import odeint\n",
    "from IPython.html.widgets import interact, fixed"
   ]
  },
  {
   "cell_type": "code",
   "execution_count": 6,
   "metadata": {
    "collapsed": false,
    "scrolled": false
   },
   "outputs": [
    {
     "data": {
      "image/png": "[encoded data removed]",
      "text/plain": [
       "<matplotlib.figure.Figure at 0x7f012e0dc8d0>"
      ]
     },
     "metadata": {},
     "output_type": "display_data"
    }
   ],
   "source": [
    "R = 25\n",
    "y = np.linspace(-50,50, 1200)\n",
    "x = -y**2/(4*R) + R\n",
    "plt.plot(x,y)\n",
    "plt.scatter(0,0)\n",
    "plt.xlim(-65,65)\n",
    "plt.ylim(-65,65)\n",
    "plt.box(False)"
   ]
  },
  {
   "cell_type": "code",
   "execution_count": 7,
   "metadata": {
    "collapsed": false
   },
   "outputs": [
    {
     "data": {
      "image/png": "[encoded data removed]",
      "text/plain": [
       "<matplotlib.figure.Figure at 0x7f012dff34a8>"
      ]
     },
     "metadata": {},
     "output_type": "display_data"
    }
   ],
   "source": [
    "R = 25\n",
    "y = np.linspace(-50,50, 1200)\n",
    "x = y**2/(4*R) - R\n",
    "plt.plot(x,y)\n",
    "plt.scatter(0,0)\n",
    "plt.xlim(-65,65)\n",
    "plt.ylim(-65,65)\n",
    "plt.box(False)"
   ]
  },
  {
   "cell_type": "code",
   "execution_count": null,
   "metadata": {
    "collapsed": true
   },
   "outputs": [],
   "source": [
    "def S_cond(y, R, M, S):\n",
    "    \n",
    "    G = 4.498e-6\n",
    "    \n",
    "    x = -y**2/(4*R) + R\n",
    "    theta = np.arctan(50/y)\n",
    "    \n",
    "    v = v = np.sqrt(2*(G*(M+S))/np.sqrt(x1**2+y1**2))\n",
    "    vx = v*np.cos(theta)\n",
    "    vy = v*np.sin(theta)\n",
    "    \n",
    "    return x,vx, y, vy"
   ]
  }
 ],
 "metadata": {
  "kernelspec": {
   "display_name": "Python 3",
   "language": "python",
   "name": "python3"
  },
  "language_info": {
   "codemirror_mode": {
    "name": "ipython",
    "version": 3
   },
   "file_extension": ".py",
   "mimetype": "text/x-python",
   "name": "python",
   "nbconvert_exporter": "python",
   "pygments_lexer": "ipython3",
   "version": "3.4.0"
  }
 },
 "nbformat": 4,
 "nbformat_minor": 0
}
